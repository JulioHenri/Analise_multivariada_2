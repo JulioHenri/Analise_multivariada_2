{
  "nbformat": 4,
  "nbformat_minor": 0,
  "metadata": {
    "colab": {
      "name": "multi_2.ipynb",
      "provenance": [],
      "authorship_tag": "ABX9TyPP0r0UP7xadQkLSFeH6E9m",
      "include_colab_link": true
    },
    "kernelspec": {
      "name": "python3",
      "display_name": "Python 3"
    },
    "language_info": {
      "name": "python"
    }
  },
  "cells": [
    {
      "cell_type": "markdown",
      "metadata": {
        "id": "view-in-github",
        "colab_type": "text"
      },
      "source": [
        "<a href=\"https://colab.research.google.com/github/JulioHenri/Analise_multivariada_2/blob/main/multi_2.ipynb\" target=\"_parent\"><img src=\"https://colab.research.google.com/assets/colab-badge.svg\" alt=\"Open In Colab\"/></a>"
      ]
    },
    {
      "cell_type": "markdown",
      "source": [
        "#Carregando libs e os dados"
      ],
      "metadata": {
        "id": "ms6wzEHlgkp8"
      }
    },
    {
      "cell_type": "code",
      "execution_count": 68,
      "metadata": {
        "id": "I8ODm7zJgEjB"
      },
      "outputs": [],
      "source": [
        "import pandas as pd\n",
        "import numpy as np\n",
        "\n",
        "import matplotlib.pyplot as plt\n",
        "import seaborn as sns\n",
        "\n",
        "from sklearn.model_selection import train_test_split\n",
        "from sklearn.metrics import confusion_matrix\n",
        "from sklearn import metrics \n",
        "\n",
        "from sklearn.linear_model import LinearRegression \n",
        "import statsmodels.api as sm \n",
        "\n",
        "%matplotlib inline"
      ]
    },
    {
      "cell_type": "code",
      "source": [
        "df = pd.read_excel('HATCO.xlsx')"
      ],
      "metadata": {
        "id": "ZKUb1ZwxgObF"
      },
      "execution_count": 2,
      "outputs": []
    },
    {
      "cell_type": "code",
      "source": [
        "df.head()"
      ],
      "metadata": {
        "colab": {
          "base_uri": "https://localhost:8080/",
          "height": 206
        },
        "id": "mv_uCbZlgV1H",
        "outputId": "cc57b62c-3dd7-4940-a321-9b6d91f9ef8a"
      },
      "execution_count": 3,
      "outputs": [
        {
          "output_type": "execute_result",
          "data": {
            "text/html": [
              "\n",
              "  <div id=\"df-9fbc82de-ee37-4496-a18a-cbfb2f810553\">\n",
              "    <div class=\"colab-df-container\">\n",
              "      <div>\n",
              "<style scoped>\n",
              "    .dataframe tbody tr th:only-of-type {\n",
              "        vertical-align: middle;\n",
              "    }\n",
              "\n",
              "    .dataframe tbody tr th {\n",
              "        vertical-align: top;\n",
              "    }\n",
              "\n",
              "    .dataframe thead th {\n",
              "        text-align: right;\n",
              "    }\n",
              "</style>\n",
              "<table border=\"1\" class=\"dataframe\">\n",
              "  <thead>\n",
              "    <tr style=\"text-align: right;\">\n",
              "      <th></th>\n",
              "      <th>X1</th>\n",
              "      <th>X2</th>\n",
              "      <th>X3</th>\n",
              "      <th>X4</th>\n",
              "      <th>X5</th>\n",
              "      <th>X6</th>\n",
              "      <th>X7</th>\n",
              "      <th>X8</th>\n",
              "      <th>X9</th>\n",
              "      <th>X10</th>\n",
              "      <th>X9bin</th>\n",
              "    </tr>\n",
              "  </thead>\n",
              "  <tbody>\n",
              "    <tr>\n",
              "      <th>0</th>\n",
              "      <td>1.8</td>\n",
              "      <td>3.0</td>\n",
              "      <td>6.3</td>\n",
              "      <td>6.6</td>\n",
              "      <td>2.5</td>\n",
              "      <td>4.0</td>\n",
              "      <td>8.4</td>\n",
              "      <td>LARGE</td>\n",
              "      <td>43</td>\n",
              "      <td>4.3</td>\n",
              "      <td>0</td>\n",
              "    </tr>\n",
              "    <tr>\n",
              "      <th>1</th>\n",
              "      <td>3.4</td>\n",
              "      <td>5.2</td>\n",
              "      <td>5.7</td>\n",
              "      <td>6.0</td>\n",
              "      <td>4.3</td>\n",
              "      <td>2.7</td>\n",
              "      <td>8.2</td>\n",
              "      <td>LARGE</td>\n",
              "      <td>48</td>\n",
              "      <td>5.2</td>\n",
              "      <td>1</td>\n",
              "    </tr>\n",
              "    <tr>\n",
              "      <th>2</th>\n",
              "      <td>2.7</td>\n",
              "      <td>1.0</td>\n",
              "      <td>7.1</td>\n",
              "      <td>5.9</td>\n",
              "      <td>1.8</td>\n",
              "      <td>2.3</td>\n",
              "      <td>7.8</td>\n",
              "      <td>LARGE</td>\n",
              "      <td>32</td>\n",
              "      <td>3.9</td>\n",
              "      <td>0</td>\n",
              "    </tr>\n",
              "    <tr>\n",
              "      <th>3</th>\n",
              "      <td>1.9</td>\n",
              "      <td>3.3</td>\n",
              "      <td>7.9</td>\n",
              "      <td>4.8</td>\n",
              "      <td>2.6</td>\n",
              "      <td>1.9</td>\n",
              "      <td>9.7</td>\n",
              "      <td>LARGE</td>\n",
              "      <td>45</td>\n",
              "      <td>4.4</td>\n",
              "      <td>0</td>\n",
              "    </tr>\n",
              "    <tr>\n",
              "      <th>4</th>\n",
              "      <td>1.3</td>\n",
              "      <td>4.2</td>\n",
              "      <td>6.2</td>\n",
              "      <td>5.1</td>\n",
              "      <td>2.8</td>\n",
              "      <td>2.2</td>\n",
              "      <td>6.9</td>\n",
              "      <td>LARGE</td>\n",
              "      <td>44</td>\n",
              "      <td>4.3</td>\n",
              "      <td>0</td>\n",
              "    </tr>\n",
              "  </tbody>\n",
              "</table>\n",
              "</div>\n",
              "      <button class=\"colab-df-convert\" onclick=\"convertToInteractive('df-9fbc82de-ee37-4496-a18a-cbfb2f810553')\"\n",
              "              title=\"Convert this dataframe to an interactive table.\"\n",
              "              style=\"display:none;\">\n",
              "        \n",
              "  <svg xmlns=\"http://www.w3.org/2000/svg\" height=\"24px\"viewBox=\"0 0 24 24\"\n",
              "       width=\"24px\">\n",
              "    <path d=\"M0 0h24v24H0V0z\" fill=\"none\"/>\n",
              "    <path d=\"M18.56 5.44l.94 2.06.94-2.06 2.06-.94-2.06-.94-.94-2.06-.94 2.06-2.06.94zm-11 1L8.5 8.5l.94-2.06 2.06-.94-2.06-.94L8.5 2.5l-.94 2.06-2.06.94zm10 10l.94 2.06.94-2.06 2.06-.94-2.06-.94-.94-2.06-.94 2.06-2.06.94z\"/><path d=\"M17.41 7.96l-1.37-1.37c-.4-.4-.92-.59-1.43-.59-.52 0-1.04.2-1.43.59L10.3 9.45l-7.72 7.72c-.78.78-.78 2.05 0 2.83L4 21.41c.39.39.9.59 1.41.59.51 0 1.02-.2 1.41-.59l7.78-7.78 2.81-2.81c.8-.78.8-2.07 0-2.86zM5.41 20L4 18.59l7.72-7.72 1.47 1.35L5.41 20z\"/>\n",
              "  </svg>\n",
              "      </button>\n",
              "      \n",
              "  <style>\n",
              "    .colab-df-container {\n",
              "      display:flex;\n",
              "      flex-wrap:wrap;\n",
              "      gap: 12px;\n",
              "    }\n",
              "\n",
              "    .colab-df-convert {\n",
              "      background-color: #E8F0FE;\n",
              "      border: none;\n",
              "      border-radius: 50%;\n",
              "      cursor: pointer;\n",
              "      display: none;\n",
              "      fill: #1967D2;\n",
              "      height: 32px;\n",
              "      padding: 0 0 0 0;\n",
              "      width: 32px;\n",
              "    }\n",
              "\n",
              "    .colab-df-convert:hover {\n",
              "      background-color: #E2EBFA;\n",
              "      box-shadow: 0px 1px 2px rgba(60, 64, 67, 0.3), 0px 1px 3px 1px rgba(60, 64, 67, 0.15);\n",
              "      fill: #174EA6;\n",
              "    }\n",
              "\n",
              "    [theme=dark] .colab-df-convert {\n",
              "      background-color: #3B4455;\n",
              "      fill: #D2E3FC;\n",
              "    }\n",
              "\n",
              "    [theme=dark] .colab-df-convert:hover {\n",
              "      background-color: #434B5C;\n",
              "      box-shadow: 0px 1px 3px 1px rgba(0, 0, 0, 0.15);\n",
              "      filter: drop-shadow(0px 1px 2px rgba(0, 0, 0, 0.3));\n",
              "      fill: #FFFFFF;\n",
              "    }\n",
              "  </style>\n",
              "\n",
              "      <script>\n",
              "        const buttonEl =\n",
              "          document.querySelector('#df-9fbc82de-ee37-4496-a18a-cbfb2f810553 button.colab-df-convert');\n",
              "        buttonEl.style.display =\n",
              "          google.colab.kernel.accessAllowed ? 'block' : 'none';\n",
              "\n",
              "        async function convertToInteractive(key) {\n",
              "          const element = document.querySelector('#df-9fbc82de-ee37-4496-a18a-cbfb2f810553');\n",
              "          const dataTable =\n",
              "            await google.colab.kernel.invokeFunction('convertToInteractive',\n",
              "                                                     [key], {});\n",
              "          if (!dataTable) return;\n",
              "\n",
              "          const docLinkHtml = 'Like what you see? Visit the ' +\n",
              "            '<a target=\"_blank\" href=https://colab.research.google.com/notebooks/data_table.ipynb>data table notebook</a>'\n",
              "            + ' to learn more about interactive tables.';\n",
              "          element.innerHTML = '';\n",
              "          dataTable['output_type'] = 'display_data';\n",
              "          await google.colab.output.renderOutput(dataTable, element);\n",
              "          const docLink = document.createElement('div');\n",
              "          docLink.innerHTML = docLinkHtml;\n",
              "          element.appendChild(docLink);\n",
              "        }\n",
              "      </script>\n",
              "    </div>\n",
              "  </div>\n",
              "  "
            ],
            "text/plain": [
              "    X1   X2   X3   X4   X5   X6   X7     X8  X9  X10  X9bin\n",
              "0  1.8  3.0  6.3  6.6  2.5  4.0  8.4  LARGE  43  4.3      0\n",
              "1  3.4  5.2  5.7  6.0  4.3  2.7  8.2  LARGE  48  5.2      1\n",
              "2  2.7  1.0  7.1  5.9  1.8  2.3  7.8  LARGE  32  3.9      0\n",
              "3  1.9  3.3  7.9  4.8  2.6  1.9  9.7  LARGE  45  4.4      0\n",
              "4  1.3  4.2  6.2  5.1  2.8  2.2  6.9  LARGE  44  4.3      0"
            ]
          },
          "metadata": {},
          "execution_count": 3
        }
      ]
    },
    {
      "cell_type": "markdown",
      "source": [
        "#Explorando os dados"
      ],
      "metadata": {
        "id": "AUgj2JYMgoUz"
      }
    },
    {
      "cell_type": "code",
      "source": [
        "df.info() #informações do dataframe"
      ],
      "metadata": {
        "colab": {
          "base_uri": "https://localhost:8080/"
        },
        "id": "RYoidRkbgXeR",
        "outputId": "c0654220-e0be-4ab5-dc6d-3d7663e76027"
      },
      "execution_count": 4,
      "outputs": [
        {
          "output_type": "stream",
          "name": "stdout",
          "text": [
            "<class 'pandas.core.frame.DataFrame'>\n",
            "RangeIndex: 101 entries, 0 to 100\n",
            "Data columns (total 11 columns):\n",
            " #   Column  Non-Null Count  Dtype  \n",
            "---  ------  --------------  -----  \n",
            " 0   X1      101 non-null    float64\n",
            " 1   X2      101 non-null    float64\n",
            " 2   X3      101 non-null    float64\n",
            " 3   X4      101 non-null    float64\n",
            " 4   X5      101 non-null    float64\n",
            " 5   X6      101 non-null    float64\n",
            " 6   X7      101 non-null    float64\n",
            " 7   X8      101 non-null    object \n",
            " 8   X9      101 non-null    int64  \n",
            " 9   X10     101 non-null    float64\n",
            " 10  X9bin   101 non-null    int64  \n",
            "dtypes: float64(8), int64(2), object(1)\n",
            "memory usage: 8.8+ KB\n"
          ]
        }
      ]
    },
    {
      "cell_type": "markdown",
      "source": [
        "Não há valores nulos, banco majoritariamente quantitativo, 11 colunas e 101 registros."
      ],
      "metadata": {
        "id": "IDe3M8vdgtyO"
      }
    },
    {
      "cell_type": "code",
      "source": [
        "df.describe() #medidas estatísticas"
      ],
      "metadata": {
        "colab": {
          "base_uri": "https://localhost:8080/",
          "height": 364
        },
        "id": "uplIbZeJgjSx",
        "outputId": "73f62a3a-1d03-49f8-cd88-5cd3e53c8c87"
      },
      "execution_count": 5,
      "outputs": [
        {
          "output_type": "execute_result",
          "data": {
            "text/html": [
              "\n",
              "  <div id=\"df-60a67ca3-7bae-47a2-891d-993806f954ce\">\n",
              "    <div class=\"colab-df-container\">\n",
              "      <div>\n",
              "<style scoped>\n",
              "    .dataframe tbody tr th:only-of-type {\n",
              "        vertical-align: middle;\n",
              "    }\n",
              "\n",
              "    .dataframe tbody tr th {\n",
              "        vertical-align: top;\n",
              "    }\n",
              "\n",
              "    .dataframe thead th {\n",
              "        text-align: right;\n",
              "    }\n",
              "</style>\n",
              "<table border=\"1\" class=\"dataframe\">\n",
              "  <thead>\n",
              "    <tr style=\"text-align: right;\">\n",
              "      <th></th>\n",
              "      <th>X1</th>\n",
              "      <th>X2</th>\n",
              "      <th>X3</th>\n",
              "      <th>X4</th>\n",
              "      <th>X5</th>\n",
              "      <th>X6</th>\n",
              "      <th>X7</th>\n",
              "      <th>X9</th>\n",
              "      <th>X10</th>\n",
              "      <th>X9bin</th>\n",
              "    </tr>\n",
              "  </thead>\n",
              "  <tbody>\n",
              "    <tr>\n",
              "      <th>count</th>\n",
              "      <td>101.000000</td>\n",
              "      <td>101.000000</td>\n",
              "      <td>101.000000</td>\n",
              "      <td>101.000000</td>\n",
              "      <td>101.000000</td>\n",
              "      <td>101.000000</td>\n",
              "      <td>101.000000</td>\n",
              "      <td>101.000000</td>\n",
              "      <td>101.000000</td>\n",
              "      <td>101.000000</td>\n",
              "    </tr>\n",
              "    <tr>\n",
              "      <th>mean</th>\n",
              "      <td>3.519802</td>\n",
              "      <td>2.349505</td>\n",
              "      <td>7.905941</td>\n",
              "      <td>5.249505</td>\n",
              "      <td>2.910891</td>\n",
              "      <td>2.664356</td>\n",
              "      <td>6.974257</td>\n",
              "      <td>46.099010</td>\n",
              "      <td>4.774257</td>\n",
              "      <td>0.554455</td>\n",
              "    </tr>\n",
              "    <tr>\n",
              "      <th>std</th>\n",
              "      <td>1.314992</td>\n",
              "      <td>1.198551</td>\n",
              "      <td>1.384761</td>\n",
              "      <td>1.125844</td>\n",
              "      <td>0.749253</td>\n",
              "      <td>0.767018</td>\n",
              "      <td>1.577635</td>\n",
              "      <td>8.943718</td>\n",
              "      <td>0.851898</td>\n",
              "      <td>0.499505</td>\n",
              "    </tr>\n",
              "    <tr>\n",
              "      <th>min</th>\n",
              "      <td>0.000000</td>\n",
              "      <td>0.200000</td>\n",
              "      <td>5.000000</td>\n",
              "      <td>2.500000</td>\n",
              "      <td>0.700000</td>\n",
              "      <td>1.100000</td>\n",
              "      <td>3.700000</td>\n",
              "      <td>25.000000</td>\n",
              "      <td>3.200000</td>\n",
              "      <td>0.000000</td>\n",
              "    </tr>\n",
              "    <tr>\n",
              "      <th>25%</th>\n",
              "      <td>2.500000</td>\n",
              "      <td>1.400000</td>\n",
              "      <td>6.700000</td>\n",
              "      <td>4.600000</td>\n",
              "      <td>2.400000</td>\n",
              "      <td>2.200000</td>\n",
              "      <td>5.800000</td>\n",
              "      <td>39.000000</td>\n",
              "      <td>4.100000</td>\n",
              "      <td>0.000000</td>\n",
              "    </tr>\n",
              "    <tr>\n",
              "      <th>50%</th>\n",
              "      <td>3.400000</td>\n",
              "      <td>2.100000</td>\n",
              "      <td>8.100000</td>\n",
              "      <td>5.000000</td>\n",
              "      <td>3.000000</td>\n",
              "      <td>2.600000</td>\n",
              "      <td>7.200000</td>\n",
              "      <td>46.000000</td>\n",
              "      <td>4.900000</td>\n",
              "      <td>1.000000</td>\n",
              "    </tr>\n",
              "    <tr>\n",
              "      <th>75%</th>\n",
              "      <td>4.600000</td>\n",
              "      <td>3.200000</td>\n",
              "      <td>9.100000</td>\n",
              "      <td>6.000000</td>\n",
              "      <td>3.400000</td>\n",
              "      <td>3.000000</td>\n",
              "      <td>8.300000</td>\n",
              "      <td>53.000000</td>\n",
              "      <td>5.400000</td>\n",
              "      <td>1.000000</td>\n",
              "    </tr>\n",
              "    <tr>\n",
              "      <th>max</th>\n",
              "      <td>6.100000</td>\n",
              "      <td>5.400000</td>\n",
              "      <td>10.000000</td>\n",
              "      <td>8.200000</td>\n",
              "      <td>4.600000</td>\n",
              "      <td>4.600000</td>\n",
              "      <td>10.000000</td>\n",
              "      <td>65.000000</td>\n",
              "      <td>6.800000</td>\n",
              "      <td>1.000000</td>\n",
              "    </tr>\n",
              "  </tbody>\n",
              "</table>\n",
              "</div>\n",
              "      <button class=\"colab-df-convert\" onclick=\"convertToInteractive('df-60a67ca3-7bae-47a2-891d-993806f954ce')\"\n",
              "              title=\"Convert this dataframe to an interactive table.\"\n",
              "              style=\"display:none;\">\n",
              "        \n",
              "  <svg xmlns=\"http://www.w3.org/2000/svg\" height=\"24px\"viewBox=\"0 0 24 24\"\n",
              "       width=\"24px\">\n",
              "    <path d=\"M0 0h24v24H0V0z\" fill=\"none\"/>\n",
              "    <path d=\"M18.56 5.44l.94 2.06.94-2.06 2.06-.94-2.06-.94-.94-2.06-.94 2.06-2.06.94zm-11 1L8.5 8.5l.94-2.06 2.06-.94-2.06-.94L8.5 2.5l-.94 2.06-2.06.94zm10 10l.94 2.06.94-2.06 2.06-.94-2.06-.94-.94-2.06-.94 2.06-2.06.94z\"/><path d=\"M17.41 7.96l-1.37-1.37c-.4-.4-.92-.59-1.43-.59-.52 0-1.04.2-1.43.59L10.3 9.45l-7.72 7.72c-.78.78-.78 2.05 0 2.83L4 21.41c.39.39.9.59 1.41.59.51 0 1.02-.2 1.41-.59l7.78-7.78 2.81-2.81c.8-.78.8-2.07 0-2.86zM5.41 20L4 18.59l7.72-7.72 1.47 1.35L5.41 20z\"/>\n",
              "  </svg>\n",
              "      </button>\n",
              "      \n",
              "  <style>\n",
              "    .colab-df-container {\n",
              "      display:flex;\n",
              "      flex-wrap:wrap;\n",
              "      gap: 12px;\n",
              "    }\n",
              "\n",
              "    .colab-df-convert {\n",
              "      background-color: #E8F0FE;\n",
              "      border: none;\n",
              "      border-radius: 50%;\n",
              "      cursor: pointer;\n",
              "      display: none;\n",
              "      fill: #1967D2;\n",
              "      height: 32px;\n",
              "      padding: 0 0 0 0;\n",
              "      width: 32px;\n",
              "    }\n",
              "\n",
              "    .colab-df-convert:hover {\n",
              "      background-color: #E2EBFA;\n",
              "      box-shadow: 0px 1px 2px rgba(60, 64, 67, 0.3), 0px 1px 3px 1px rgba(60, 64, 67, 0.15);\n",
              "      fill: #174EA6;\n",
              "    }\n",
              "\n",
              "    [theme=dark] .colab-df-convert {\n",
              "      background-color: #3B4455;\n",
              "      fill: #D2E3FC;\n",
              "    }\n",
              "\n",
              "    [theme=dark] .colab-df-convert:hover {\n",
              "      background-color: #434B5C;\n",
              "      box-shadow: 0px 1px 3px 1px rgba(0, 0, 0, 0.15);\n",
              "      filter: drop-shadow(0px 1px 2px rgba(0, 0, 0, 0.3));\n",
              "      fill: #FFFFFF;\n",
              "    }\n",
              "  </style>\n",
              "\n",
              "      <script>\n",
              "        const buttonEl =\n",
              "          document.querySelector('#df-60a67ca3-7bae-47a2-891d-993806f954ce button.colab-df-convert');\n",
              "        buttonEl.style.display =\n",
              "          google.colab.kernel.accessAllowed ? 'block' : 'none';\n",
              "\n",
              "        async function convertToInteractive(key) {\n",
              "          const element = document.querySelector('#df-60a67ca3-7bae-47a2-891d-993806f954ce');\n",
              "          const dataTable =\n",
              "            await google.colab.kernel.invokeFunction('convertToInteractive',\n",
              "                                                     [key], {});\n",
              "          if (!dataTable) return;\n",
              "\n",
              "          const docLinkHtml = 'Like what you see? Visit the ' +\n",
              "            '<a target=\"_blank\" href=https://colab.research.google.com/notebooks/data_table.ipynb>data table notebook</a>'\n",
              "            + ' to learn more about interactive tables.';\n",
              "          element.innerHTML = '';\n",
              "          dataTable['output_type'] = 'display_data';\n",
              "          await google.colab.output.renderOutput(dataTable, element);\n",
              "          const docLink = document.createElement('div');\n",
              "          docLink.innerHTML = docLinkHtml;\n",
              "          element.appendChild(docLink);\n",
              "        }\n",
              "      </script>\n",
              "    </div>\n",
              "  </div>\n",
              "  "
            ],
            "text/plain": [
              "               X1          X2          X3  ...          X9         X10       X9bin\n",
              "count  101.000000  101.000000  101.000000  ...  101.000000  101.000000  101.000000\n",
              "mean     3.519802    2.349505    7.905941  ...   46.099010    4.774257    0.554455\n",
              "std      1.314992    1.198551    1.384761  ...    8.943718    0.851898    0.499505\n",
              "min      0.000000    0.200000    5.000000  ...   25.000000    3.200000    0.000000\n",
              "25%      2.500000    1.400000    6.700000  ...   39.000000    4.100000    0.000000\n",
              "50%      3.400000    2.100000    8.100000  ...   46.000000    4.900000    1.000000\n",
              "75%      4.600000    3.200000    9.100000  ...   53.000000    5.400000    1.000000\n",
              "max      6.100000    5.400000   10.000000  ...   65.000000    6.800000    1.000000\n",
              "\n",
              "[8 rows x 10 columns]"
            ]
          },
          "metadata": {},
          "execution_count": 5
        }
      ]
    },
    {
      "cell_type": "markdown",
      "source": [
        "#1 questão)"
      ],
      "metadata": {
        "id": "_xEA3cDxqQPN"
      }
    },
    {
      "cell_type": "code",
      "source": [
        "#separando as variáveis explicativas da variável target\n",
        "x = df.drop(['X8','X9','X10','X9bin'], axis = 1)\n",
        "y = df['X8']"
      ],
      "metadata": {
        "id": "1Da4YNnxjmnH"
      },
      "execution_count": 10,
      "outputs": []
    },
    {
      "cell_type": "code",
      "source": [
        "#separando em treino e test\n",
        "x_train, x_test, y_train, y_test = train_test_split(x, y, test_size=0.25)\n",
        "x_train.shape, y_train.shape, x_test.shape,y_test.shape"
      ],
      "metadata": {
        "colab": {
          "base_uri": "https://localhost:8080/"
        },
        "id": "eNbCj-m2lWXt",
        "outputId": "76d9047a-6ae5-4b92-a01b-119f6bcc49f7"
      },
      "execution_count": 26,
      "outputs": [
        {
          "output_type": "execute_result",
          "data": {
            "text/plain": [
              "((75, 7), (75,), (26, 7), (26,))"
            ]
          },
          "metadata": {},
          "execution_count": 26
        }
      ]
    },
    {
      "cell_type": "code",
      "source": [
        "from sklearn.discriminant_analysis import LinearDiscriminantAnalysis"
      ],
      "metadata": {
        "id": "GjeBJ7ocg7Tp"
      },
      "execution_count": 27,
      "outputs": []
    },
    {
      "cell_type": "code",
      "source": [
        "#instanciando e treinando \n",
        "clf = LinearDiscriminantAnalysis()\n",
        "clf.fit(x_train, y_train)"
      ],
      "metadata": {
        "colab": {
          "base_uri": "https://localhost:8080/"
        },
        "id": "S6e2KboWjRZp",
        "outputId": "9b28c060-c93f-4a61-b025-99f6ab7acd49"
      },
      "execution_count": 28,
      "outputs": [
        {
          "output_type": "execute_result",
          "data": {
            "text/plain": [
              "LinearDiscriminantAnalysis()"
            ]
          },
          "metadata": {},
          "execution_count": 28
        }
      ]
    },
    {
      "cell_type": "code",
      "source": [
        "#fazendo a previsão\n",
        "y_pred = clf.predict(x_test)\n",
        "y_pred"
      ],
      "metadata": {
        "colab": {
          "base_uri": "https://localhost:8080/"
        },
        "id": "G5s7MiTWk2zO",
        "outputId": "57f800fc-de31-4280-9d5b-091821e528f1"
      },
      "execution_count": 30,
      "outputs": [
        {
          "output_type": "execute_result",
          "data": {
            "text/plain": [
              "array(['LARGE', 'LARGE', 'SMALL', 'SMALL', 'SMALL', 'SMALL', 'SMALL',\n",
              "       'LARGE', 'SMALL', 'SMALL', 'SMALL', 'LARGE', 'SMALL', 'SMALL',\n",
              "       'LARGE', 'LARGE', 'SMALL', 'LARGE', 'SMALL', 'LARGE', 'LARGE',\n",
              "       'SMALL', 'SMALL', 'LARGE', 'SMALL', 'LARGE'], dtype='<U5')"
            ]
          },
          "metadata": {},
          "execution_count": 30
        }
      ]
    },
    {
      "cell_type": "code",
      "source": [
        "y_test = np.array(y_test)\n",
        "y_test"
      ],
      "metadata": {
        "colab": {
          "base_uri": "https://localhost:8080/"
        },
        "id": "IssxxaFsk6lP",
        "outputId": "d88441f7-359f-413a-de4a-8939a0415b0e"
      },
      "execution_count": 33,
      "outputs": [
        {
          "output_type": "execute_result",
          "data": {
            "text/plain": [
              "array(['LARGE', 'SMALL', 'LARGE', 'SMALL', 'SMALL', 'SMALL', 'SMALL',\n",
              "       'SMALL', 'SMALL', 'SMALL', 'LARGE', 'LARGE', 'SMALL', 'SMALL',\n",
              "       'SMALL', 'LARGE', 'LARGE', 'LARGE', 'SMALL', 'LARGE', 'SMALL',\n",
              "       'SMALL', 'SMALL', 'SMALL', 'SMALL', 'SMALL'], dtype=object)"
            ]
          },
          "metadata": {},
          "execution_count": 33
        }
      ]
    },
    {
      "cell_type": "code",
      "source": [
        "#criando matriz de confusão c os valores reais e os previstos\n",
        "matrix = confusion_matrix(y_test, y_pred)\n",
        "matrix"
      ],
      "metadata": {
        "colab": {
          "base_uri": "https://localhost:8080/"
        },
        "id": "2ASl1IcAmqBH",
        "outputId": "9667f47f-8e57-46f5-dbe4-becd48454f40"
      },
      "execution_count": 36,
      "outputs": [
        {
          "output_type": "execute_result",
          "data": {
            "text/plain": [
              "array([[ 5,  3],\n",
              "       [ 6, 12]])"
            ]
          },
          "metadata": {},
          "execution_count": 36
        }
      ]
    },
    {
      "cell_type": "code",
      "source": [
        "#avaliando o modelo\n",
        "from sklearn.metrics import accuracy_score\n",
        "acc = accuracy_score(y_test, y_pred)\n",
        "acc"
      ],
      "metadata": {
        "colab": {
          "base_uri": "https://localhost:8080/"
        },
        "id": "DZrRrE19pHGt",
        "outputId": "6f859d3a-8111-4c6d-e7fb-09c18f70b1e3"
      },
      "execution_count": 39,
      "outputs": [
        {
          "output_type": "execute_result",
          "data": {
            "text/plain": [
              "0.6538461538461539"
            ]
          },
          "metadata": {},
          "execution_count": 39
        }
      ]
    },
    {
      "cell_type": "markdown",
      "source": [
        "A acurácia é definida pela razão entre o que o modelo previu corretamente e todos os exemplos. Ou seja, o modelo previu 65% dos registros nas suas classes corretas."
      ],
      "metadata": {
        "id": "6bVwMUDNpSsq"
      }
    },
    {
      "cell_type": "markdown",
      "source": [
        "#2 questão)"
      ],
      "metadata": {
        "id": "zbAnGbJrqMKP"
      }
    },
    {
      "cell_type": "markdown",
      "source": [
        "##COMPARANDO REGRESSÕES LINEARES"
      ],
      "metadata": {
        "id": "BiHYL-V_xNYX"
      }
    },
    {
      "cell_type": "code",
      "source": [
        "sns.distplot(df.X9) #observando a distribuição da variável y"
      ],
      "metadata": {
        "colab": {
          "base_uri": "https://localhost:8080/",
          "height": 354
        },
        "id": "6pUBPXy2pSWq",
        "outputId": "3995b73d-4167-4b4d-c33d-c980894ba9fd"
      },
      "execution_count": 44,
      "outputs": [
        {
          "output_type": "stream",
          "name": "stderr",
          "text": [
            "/usr/local/lib/python3.7/dist-packages/seaborn/distributions.py:2619: FutureWarning: `distplot` is a deprecated function and will be removed in a future version. Please adapt your code to use either `displot` (a figure-level function with similar flexibility) or `histplot` (an axes-level function for histograms).\n",
            "  warnings.warn(msg, FutureWarning)\n"
          ]
        },
        {
          "output_type": "execute_result",
          "data": {
            "text/plain": [
              "<matplotlib.axes._subplots.AxesSubplot at 0x7fa060940a50>"
            ]
          },
          "metadata": {},
          "execution_count": 44
        },
        {
          "output_type": "display_data",
          "data": {
            "image/png": "[encoded data removed]",
            "text/plain": [
              "<Figure size 432x288 with 1 Axes>"
            ]
          },
          "metadata": {
            "needs_background": "light"
          }
        }
      ]
    },
    {
      "cell_type": "code",
      "source": [
        "#observando se há relações lineares com a variável x9\n",
        "ax = sns.pairplot(df, y_vars='X9', x_vars=['X1','X2','X3','X4','X5','X6','X7'])\n",
        "ax.fig.suptitle('Scatterplots', fontsize=20, y=1.2)\n",
        "ax"
      ],
      "metadata": {
        "colab": {
          "base_uri": "https://localhost:8080/",
          "height": 197
        },
        "id": "E2giq_z9stzT",
        "outputId": "b6449c97-9078-4156-f6ed-b150725ea6db"
      },
      "execution_count": 54,
      "outputs": [
        {
          "output_type": "execute_result",
          "data": {
            "text/plain": [
              "<seaborn.axisgrid.PairGrid at 0x7fa048e64e10>"
            ]
          },
          "metadata": {},
          "execution_count": 54
        },
        {
          "output_type": "display_data",
          "data": {
            "image/png": "[encoded data removed]",
            "text/plain": [
              "<Figure size 1260x180 with 7 Axes>"
            ]
          },
          "metadata": {
            "needs_background": "light"
          }
        }
      ]
    },
    {
      "cell_type": "code",
      "source": [
        "#visualizando as correlações\n",
        "plt.figure(figsize=(12,10))\n",
        "cor = df.corr()\n",
        "sns.heatmap(cor, annot=True, cmap=\"YlGnBu\")"
      ],
      "metadata": {
        "colab": {
          "base_uri": "https://localhost:8080/",
          "height": 613
        },
        "id": "qas1PfS_ugGt",
        "outputId": "ae8ed88f-6c40-41ea-88cd-36af2d63ded0"
      },
      "execution_count": 65,
      "outputs": [
        {
          "output_type": "execute_result",
          "data": {
            "text/plain": [
              "<matplotlib.axes._subplots.AxesSubplot at 0x7fa047078990>"
            ]
          },
          "metadata": {},
          "execution_count": 65
        },
        {
          "output_type": "display_data",
          "data": {
            "image/png": "[encoded data removed]",
            "text/plain": [
              "<Figure size 864x720 with 2 Axes>"
            ]
          },
          "metadata": {
            "needs_background": "light"
          }
        }
      ]
    },
    {
      "cell_type": "code",
      "source": [
        "#observando as variáveis mais correlacionadas com x9\n",
        "cor = df.corr()\n",
        "cor_target = abs(cor['X9'])\n",
        "\n",
        "relevant_features = cor_target[cor_target>0.5]\n",
        "relevant_features = relevant_features[:3]\n",
        "relevant_features"
      ],
      "metadata": {
        "colab": {
          "base_uri": "https://localhost:8080/"
        },
        "id": "tu9Rjh7ItHOo",
        "outputId": "80b105c6-8098-40eb-89bb-2dcb351fd6dd"
      },
      "execution_count": 66,
      "outputs": [
        {
          "output_type": "execute_result",
          "data": {
            "text/plain": [
              "X1    0.675969\n",
              "X3    0.556839\n",
              "X5    0.699125\n",
              "Name: X9, dtype: float64"
            ]
          },
          "metadata": {},
          "execution_count": 66
        }
      ]
    },
    {
      "cell_type": "code",
      "source": [
        "#separando as variáveis explicativas da variável target\n",
        "x = df.drop(['X8','X9','X10','X9bin'], axis = 1)\n",
        "y = df['X9']"
      ],
      "metadata": {
        "id": "PXjbs6K3rJzS"
      },
      "execution_count": 50,
      "outputs": []
    },
    {
      "cell_type": "code",
      "source": [
        "#separando em treino e test\n",
        "x_train, x_test, y_train, y_test = train_test_split(x, y, test_size=0.25)\n",
        "x_train.shape, y_train.shape, x_test.shape,y_test.shape"
      ],
      "metadata": {
        "colab": {
          "base_uri": "https://localhost:8080/"
        },
        "id": "s9ctq4X8sbX6",
        "outputId": "1509bad4-db11-4763-c5a3-9f88fa0e9524"
      },
      "execution_count": 51,
      "outputs": [
        {
          "output_type": "execute_result",
          "data": {
            "text/plain": [
              "((75, 7), (75,), (26, 7), (26,))"
            ]
          },
          "metadata": {},
          "execution_count": 51
        }
      ]
    },
    {
      "cell_type": "code",
      "source": [
        "#estimando o modedlo\n",
        "modelo_sm = sm.OLS(y_train, x_train, hascont = True).fit()"
      ],
      "metadata": {
        "id": "dE6nHl7DpM7G"
      },
      "execution_count": 52,
      "outputs": []
    },
    {
      "cell_type": "code",
      "source": [
        "#método dos mínimos quadrados\n",
        "modelo_sm.summary()"
      ],
      "metadata": {
        "colab": {
          "base_uri": "https://localhost:8080/",
          "height": 536
        },
        "id": "Fc3Yq5nirrIs",
        "outputId": "6f918546-9706-45f5-b9f7-204fff89c805"
      },
      "execution_count": 53,
      "outputs": [
        {
          "output_type": "execute_result",
          "data": {
            "text/html": [
              "<table class=\"simpletable\">\n",
              "<caption>OLS Regression Results</caption>\n",
              "<tr>\n",
              "  <th>Dep. Variable:</th>           <td>X9</td>        <th>  R-squared (uncentered):</th>      <td>   0.991</td>\n",
              "</tr>\n",
              "<tr>\n",
              "  <th>Model:</th>                   <td>OLS</td>       <th>  Adj. R-squared (uncentered):</th> <td>   0.991</td>\n",
              "</tr>\n",
              "<tr>\n",
              "  <th>Method:</th>             <td>Least Squares</td>  <th>  F-statistic:       </th>          <td>   1119.</td>\n",
              "</tr>\n",
              "<tr>\n",
              "  <th>Date:</th>             <td>Wed, 09 Feb 2022</td> <th>  Prob (F-statistic):</th>          <td>1.36e-67</td>\n",
              "</tr>\n",
              "<tr>\n",
              "  <th>Time:</th>                 <td>22:55:02</td>     <th>  Log-Likelihood:    </th>          <td> -217.08</td>\n",
              "</tr>\n",
              "<tr>\n",
              "  <th>No. Observations:</th>      <td>    75</td>      <th>  AIC:               </th>          <td>   448.2</td>\n",
              "</tr>\n",
              "<tr>\n",
              "  <th>Df Residuals:</th>          <td>    68</td>      <th>  BIC:               </th>          <td>   464.4</td>\n",
              "</tr>\n",
              "<tr>\n",
              "  <th>Df Model:</th>              <td>     7</td>      <th>                     </th>              <td> </td>   \n",
              "</tr>\n",
              "<tr>\n",
              "  <th>Covariance Type:</th>      <td>nonrobust</td>    <th>                     </th>              <td> </td>   \n",
              "</tr>\n",
              "</table>\n",
              "<table class=\"simpletable\">\n",
              "<tr>\n",
              "   <td></td>     <th>coef</th>     <th>std err</th>      <th>t</th>      <th>P>|t|</th>  <th>[0.025</th>    <th>0.975]</th>  \n",
              "</tr>\n",
              "<tr>\n",
              "  <th>X1</th> <td>    0.9062</td> <td>    2.194</td> <td>    0.413</td> <td> 0.681</td> <td>   -3.473</td> <td>    5.285</td>\n",
              "</tr>\n",
              "<tr>\n",
              "  <th>X2</th> <td>   -0.0368</td> <td>    2.273</td> <td>   -0.016</td> <td> 0.987</td> <td>   -4.573</td> <td>    4.500</td>\n",
              "</tr>\n",
              "<tr>\n",
              "  <th>X3</th> <td>    2.3893</td> <td>    0.352</td> <td>    6.787</td> <td> 0.000</td> <td>    1.687</td> <td>    3.092</td>\n",
              "</tr>\n",
              "<tr>\n",
              "  <th>X4</th> <td>   -0.7051</td> <td>    0.781</td> <td>   -0.903</td> <td> 0.370</td> <td>   -2.263</td> <td>    0.853</td>\n",
              "</tr>\n",
              "<tr>\n",
              "  <th>X5</th> <td>    7.2883</td> <td>    4.237</td> <td>    1.720</td> <td> 0.090</td> <td>   -1.167</td> <td>   15.743</td>\n",
              "</tr>\n",
              "<tr>\n",
              "  <th>X6</th> <td>    1.5610</td> <td>    1.153</td> <td>    1.354</td> <td> 0.180</td> <td>   -0.740</td> <td>    3.862</td>\n",
              "</tr>\n",
              "<tr>\n",
              "  <th>X7</th> <td>    0.4154</td> <td>    0.366</td> <td>    1.134</td> <td> 0.261</td> <td>   -0.316</td> <td>    1.146</td>\n",
              "</tr>\n",
              "</table>\n",
              "<table class=\"simpletable\">\n",
              "<tr>\n",
              "  <th>Omnibus:</th>       <td> 8.850</td> <th>  Durbin-Watson:     </th> <td>   1.924</td>\n",
              "</tr>\n",
              "<tr>\n",
              "  <th>Prob(Omnibus):</th> <td> 0.012</td> <th>  Jarque-Bera (JB):  </th> <td>   8.940</td>\n",
              "</tr>\n",
              "<tr>\n",
              "  <th>Skew:</th>          <td>-0.841</td> <th>  Prob(JB):          </th> <td>  0.0114</td>\n",
              "</tr>\n",
              "<tr>\n",
              "  <th>Kurtosis:</th>      <td> 3.183</td> <th>  Cond. No.          </th> <td>    130.</td>\n",
              "</tr>\n",
              "</table><br/><br/>Warnings:<br/>[1] Standard Errors assume that the covariance matrix of the errors is correctly specified."
            ],
            "text/plain": [
              "<class 'statsmodels.iolib.summary.Summary'>\n",
              "\"\"\"\n",
              "                                 OLS Regression Results                                \n",
              "=======================================================================================\n",
              "Dep. Variable:                     X9   R-squared (uncentered):                   0.991\n",
              "Model:                            OLS   Adj. R-squared (uncentered):              0.991\n",
              "Method:                 Least Squares   F-statistic:                              1119.\n",
              "Date:                Wed, 09 Feb 2022   Prob (F-statistic):                    1.36e-67\n",
              "Time:                        22:55:02   Log-Likelihood:                         -217.08\n",
              "No. Observations:                  75   AIC:                                      448.2\n",
              "Df Residuals:                      68   BIC:                                      464.4\n",
              "Df Model:                           7                                                  \n",
              "Covariance Type:            nonrobust                                                  \n",
              "==============================================================================\n",
              "                 coef    std err          t      P>|t|      [0.025      0.975]\n",
              "------------------------------------------------------------------------------\n",
              "X1             0.9062      2.194      0.413      0.681      -3.473       5.285\n",
              "X2            -0.0368      2.273     -0.016      0.987      -4.573       4.500\n",
              "X3             2.3893      0.352      6.787      0.000       1.687       3.092\n",
              "X4            -0.7051      0.781     -0.903      0.370      -2.263       0.853\n",
              "X5             7.2883      4.237      1.720      0.090      -1.167      15.743\n",
              "X6             1.5610      1.153      1.354      0.180      -0.740       3.862\n",
              "X7             0.4154      0.366      1.134      0.261      -0.316       1.146\n",
              "==============================================================================\n",
              "Omnibus:                        8.850   Durbin-Watson:                   1.924\n",
              "Prob(Omnibus):                  0.012   Jarque-Bera (JB):                8.940\n",
              "Skew:                          -0.841   Prob(JB):                       0.0114\n",
              "Kurtosis:                       3.183   Cond. No.                         130.\n",
              "==============================================================================\n",
              "\n",
              "Warnings:\n",
              "[1] Standard Errors assume that the covariance matrix of the errors is correctly specified.\n",
              "\"\"\""
            ]
          },
          "metadata": {},
          "execution_count": 53
        }
      ]
    },
    {
      "cell_type": "code",
      "source": [
        "#método Machine Learning\n",
        "model = LinearRegression()\n",
        "model.fit(x_train, y_train)\n",
        "\n",
        "predict = model.predict(x_test)"
      ],
      "metadata": {
        "id": "uLCr66Ikr6Gz"
      },
      "execution_count": 67,
      "outputs": []
    },
    {
      "cell_type": "code",
      "source": [
        "# determinando o r^2\n",
        "print('R² = {}'.format(metrics.r2_score(y_test,\n",
        "                                        predict).round(3)))"
      ],
      "metadata": {
        "colab": {
          "base_uri": "https://localhost:8080/"
        },
        "id": "8ldGL_tDwZaL",
        "outputId": "e54a7cec-7be1-4cda-e7e9-e03bfba0a9a2"
      },
      "execution_count": 69,
      "outputs": [
        {
          "output_type": "stream",
          "name": "stdout",
          "text": [
            "R² = 0.692\n"
          ]
        }
      ]
    },
    {
      "cell_type": "code",
      "source": [
        "#observando os residuos\n",
        "residues = y_test - predict\n",
        "\n",
        "ax = sns.distplot(residues)\n",
        "ax.figure.set_size_inches(12, 6)\n",
        "ax.set_title('histogram of residues', fontsize=18)\n",
        "ax"
      ],
      "metadata": {
        "colab": {
          "base_uri": "https://localhost:8080/",
          "height": 483
        },
        "id": "bqpqEY2VwhHs",
        "outputId": "18eee7ea-2fdc-48a9-ba2f-3864814435e6"
      },
      "execution_count": 71,
      "outputs": [
        {
          "output_type": "stream",
          "name": "stderr",
          "text": [
            "/usr/local/lib/python3.7/dist-packages/seaborn/distributions.py:2619: FutureWarning: `distplot` is a deprecated function and will be removed in a future version. Please adapt your code to use either `displot` (a figure-level function with similar flexibility) or `histplot` (an axes-level function for histograms).\n",
            "  warnings.warn(msg, FutureWarning)\n"
          ]
        },
        {
          "output_type": "execute_result",
          "data": {
            "text/plain": [
              "<matplotlib.axes._subplots.AxesSubplot at 0x7fa046d849d0>"
            ]
          },
          "metadata": {},
          "execution_count": 71
        },
        {
          "output_type": "display_data",
          "data": {
            "image/png": "[encoded data removed]",
            "text/plain": [
              "<Figure size 864x432 with 1 Axes>"
            ]
          },
          "metadata": {
            "needs_background": "light"
          }
        }
      ]
    },
    {
      "cell_type": "markdown",
      "source": [
        "Conclusão: Usando o R ao quadrado como métrica de avaliação, o método dos mínimos quadrados ordinários se mostrou o melhor modelo de regressão comparado ao método de aprendizado de máquina. "
      ],
      "metadata": {
        "id": "3lbbxPuhy0iY"
      }
    },
    {
      "cell_type": "markdown",
      "source": [
        "##REGRESSÃO LOGÍSTICA"
      ],
      "metadata": {
        "id": "G-hd1YtbxKwe"
      }
    },
    {
      "cell_type": "code",
      "source": [
        "y = df['X9bin']\n",
        "\n",
        "#separando em treino e test\n",
        "x_train, x_test, y_train, y_test = train_test_split(x, y, test_size=0.25)\n",
        "x_train.shape, y_train.shape, x_test.shape,y_test.shape\n"
      ],
      "metadata": {
        "colab": {
          "base_uri": "https://localhost:8080/"
        },
        "id": "ze8ofSuQyQ5m",
        "outputId": "15b550cd-3847-4c5c-9552-ab17cc05a8b1"
      },
      "execution_count": 79,
      "outputs": [
        {
          "output_type": "execute_result",
          "data": {
            "text/plain": [
              "((75, 7), (75,), (26, 7), (26,))"
            ]
          },
          "metadata": {},
          "execution_count": 79
        }
      ]
    },
    {
      "cell_type": "code",
      "source": [
        "from sklearn.linear_model import LogisticRegression\n",
        "\n",
        "model = LogisticRegression() #instanciando o modelo\n",
        "model.fit(x_train, y_train) #treinando\n",
        "\n",
        "y_pred = model.predict(x_test) #predição\n",
        "print('A acurácia é: {:.4}%'.format(accuracy_score(y_test, y_pred)*100))"
      ],
      "metadata": {
        "colab": {
          "base_uri": "https://localhost:8080/"
        },
        "id": "aOrt7y32xF9L",
        "outputId": "896c1431-2f77-4c9e-87d0-c5bf79f26757"
      },
      "execution_count": 84,
      "outputs": [
        {
          "output_type": "stream",
          "name": "stdout",
          "text": [
            "A acurácia é: 88.46%\n"
          ]
        }
      ]
    }
  ]
}